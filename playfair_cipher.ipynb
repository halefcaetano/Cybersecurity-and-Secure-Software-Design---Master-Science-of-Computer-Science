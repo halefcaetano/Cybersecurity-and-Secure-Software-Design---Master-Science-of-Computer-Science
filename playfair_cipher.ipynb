{
 "cells": [
  {
   "cell_type": "markdown",
   "id": "3f7d5974",
   "metadata": {
    "deletable": false,
    "editable": false,
    "nbgrader": {
     "cell_type": "markdown",
     "checksum": "2d27447ac2f81543a26a0f85ec2bc33d",
     "grade": false,
     "grade_id": "cell-25ddf9caa66f2ef7",
     "locked": true,
     "schema_version": 3,
     "solution": false,
     "task": false
    }
   },
   "source": [
    "# Playfair cipher programming assignment"
   ]
  },
  {
   "cell_type": "code",
   "execution_count": null,
   "id": "821c6a49",
   "metadata": {
    "deletable": false,
    "editable": false,
    "nbgrader": {
     "cell_type": "code",
     "checksum": "c2f3a7b03cce28d301bb5c8d9e2cd355",
     "grade": false,
     "grade_id": "cell-210ef4bd2f169690",
     "locked": true,
     "schema_version": 3,
     "solution": false,
     "task": false
    }
   },
   "outputs": [],
   "source": [
    "# preamble code, imports, etc..."
   ]
  },
  {
   "cell_type": "markdown",
   "id": "3c3a9bf1",
   "metadata": {
    "deletable": false,
    "editable": false,
    "nbgrader": {
     "cell_type": "markdown",
     "checksum": "b457cf8327a5b4b71a272f31d57f4cd5",
     "grade": false,
     "grade_id": "cell-6d3ebe0ce398e51c",
     "locked": true,
     "schema_version": 3,
     "solution": false,
     "task": false
    }
   },
   "source": [
    "## Section \n",
    "\n",
    "In this programming assignment, you will implement the Playfair cipher encryption algorithm in Python. "
   ]
  },
  {
   "cell_type": "markdown",
   "id": "ca76391a",
   "metadata": {
    "deletable": false,
    "editable": false,
    "nbgrader": {
     "cell_type": "markdown",
     "checksum": "e8ec98694974dcb17f5a7109ba55f6ba",
     "grade": false,
     "grade_id": "cell-185c6a25706e6d0c",
     "locked": true,
     "schema_version": 3,
     "solution": false,
     "task": false
    }
   },
   "source": [
    "### Question\n",
    "\n",
    "**Write a Python function `playfair_encrypt(plaintext, key)` that takes a plaintext string text and a key as input and returns the encrypted ciphertext string using the Playfair cipher .**\n",
    "\n",
    "_Ensure that your encryption function handles wrapping around the alphabet correctly. For example, shifting 'z' by 1 should result in 'a'. The input plaintext can be a mixture of uppercase and lower case letters. The output should be lowercase only._\n",
    "\n",
    "_The input plaintext may contain spaces, periods (.) and commas(,). Your resulting ciphertext should ignore these three characters and output the plaintext as a sequence of letters without any spaces, periods, and commas._"
   ]
  },
  {
   "cell_type": "markdown",
   "id": "1b9f3be6",
   "metadata": {
    "deletable": false,
    "editable": false,
    "nbgrader": {
     "cell_type": "markdown",
     "checksum": "5544c512b9a40377dec31cbf119ccb73",
     "grade": false,
     "grade_id": "cell-c85f25f79e7d6e57",
     "locked": true,
     "schema_version": 3,
     "solution": false,
     "task": false
    }
   },
   "source": [
    "#### Solution"
   ]
  },
  {
   "cell_type": "code",
   "execution_count": 20,
   "id": "b5d24d2b",
   "metadata": {
    "deletable": false,
    "nbgrader": {
     "cell_type": "code",
     "checksum": "3a6a8e88e0d62284a39b69f7ec9fb7b6",
     "grade": false,
     "grade_id": "cell-a1b178dab5c74195",
     "locked": false,
     "schema_version": 3,
     "solution": true,
     "task": false
    }
   },
   "outputs": [],
   "source": [
    "def playfair_encrypt(plaintext, key):\n",
    "\n",
    "    def prepare_key(key):\n",
    "        key = key.lower().replace('j', 'i')\n",
    "        seen = set()\n",
    "        key_square = []\n",
    "        for char in key:\n",
    "            if char not in seen and char.isalpha():\n",
    "                seen.add(char)\n",
    "                key_square.append(char)\n",
    "        alphabet = 'abcdefghiklmnopqrstuvwxyz'\n",
    "        for char in alphabet:\n",
    "            if char not in seen:\n",
    "                key_square.append(char)\n",
    "        return key_square\n",
    "\n",
    "\n",
    "    def create_digraphs(text):\n",
    "        text = text.lower().replace(' ', '').replace('.', '').replace(',', '')\n",
    "        text = text.replace('j', 'i')\n",
    "        digraphs = []\n",
    "        i = 0\n",
    "        while i < len(text):\n",
    "            if i + 1 < len(text) and text[i] == text[i + 1]:\n",
    "                digraphs.append(text[i] + 'x')\n",
    "                i += 1\n",
    "            elif i + 1 < len(text):\n",
    "                digraphs.append(text[i] + text[i + 1])\n",
    "                i += 2\n",
    "            else:\n",
    "                digraphs.append(text[i] + 'x')\n",
    "                i += 1\n",
    "        return digraphs\n",
    "\n",
    "\n",
    "    def find_position(char, key_square):\n",
    "        index = key_square.index(char)\n",
    "        row = index // 5\n",
    "        col = index % 5\n",
    "        return row, col\n",
    "\n",
    "\n",
    "    def encrypt_pair(a, b, key_square):\n",
    "        row_a, col_a = find_position(a, key_square)\n",
    "        row_b, col_b = find_position(b, key_square)\n",
    "        if row_a == row_b:\n",
    "            return key_square[row_a * 5 + (col_a + 1) % 5] + key_square[row_b * 5 + (col_b + 1) % 5]\n",
    "        elif col_a == col_b:\n",
    "            return key_square[((row_a + 1) % 5) * 5 + col_a] + key_square[((row_b + 1) % 5) * 5 + col_b]\n",
    "        else:\n",
    "            return key_square[row_a * 5 + col_b] + key_square[row_b * 5 + col_a]\n",
    "\n",
    "\n",
    "    key_square = prepare_key(key)\n",
    "    digraphs = create_digraphs(plaintext)\n",
    "\n",
    "\n",
    "    ciphertext = \"\"\n",
    "    for digraph in digraphs:\n",
    "        ciphertext += encrypt_pair(digraph[0], digraph[1], key_square)\n",
    "    \n",
    "    return ciphertext"
   ]
  },
  {
   "cell_type": "markdown",
   "id": "9e50192f",
   "metadata": {
    "deletable": false,
    "editable": false,
    "nbgrader": {
     "cell_type": "markdown",
     "checksum": "7820612ca6125fae5edee96a8b4279a5",
     "grade": false,
     "grade_id": "cell-2a86685efc45c5e0",
     "locked": true,
     "schema_version": 3,
     "solution": false,
     "task": false
    }
   },
   "source": [
    "#### Auto-Grading\n",
    "- Instructor Note: feel free to use any combination of these as you see fit and modify/remove the cells as needed"
   ]
  },
  {
   "cell_type": "markdown",
   "id": "2defec8c",
   "metadata": {
    "deletable": false,
    "editable": false,
    "nbgrader": {
     "cell_type": "markdown",
     "checksum": "238462b13b835fa6af10a05b0f3afd06",
     "grade": false,
     "grade_id": "cell-b79d85351aa8edc6",
     "locked": true,
     "schema_version": 3,
     "solution": false,
     "task": false
    }
   },
   "source": [
    "##### Visible Test Cases\n",
    "- visible to learners in notebook\n",
    "- learners can execute cell with tests while coding"
   ]
  },
  {
   "cell_type": "code",
   "execution_count": 19,
   "id": "56682ac9",
   "metadata": {
    "deletable": false,
    "editable": false,
    "nbgrader": {
     "cell_type": "code",
     "checksum": "79c369b092175ce9de5df38fa0a5d814",
     "grade": true,
     "grade_id": "cell-85d32c0776b9cd10",
     "locked": true,
     "points": 25,
     "schema_version": 3,
     "solution": false,
     "task": false
    }
   },
   "outputs": [],
   "source": [
    "### BEGIN TESTS\n",
    "# Test basic functionality\n",
    "assert playfair_encrypt(\"juliuscaesarisdead\", \"earth\") == \"nomkoukctortmobrrc\", \"Error: Basic encryption not working\"\n",
    "\n",
    "### END TESTS"
   ]
  },
  {
   "cell_type": "markdown",
   "id": "9410d053",
   "metadata": {
    "deletable": false,
    "editable": false,
    "nbgrader": {
     "cell_type": "markdown",
     "checksum": "42d1b39995ae71ee25b3252cbf17d000",
     "grade": false,
     "grade_id": "cell-ffd7d067ebfa52ab",
     "locked": true,
     "schema_version": 3,
     "solution": false,
     "task": false
    }
   },
   "source": [
    "##### Hidden Tests\n",
    "- will not be visible for the learner\n",
    "- only run when assignment is submitted using submit button"
   ]
  },
  {
   "cell_type": "code",
   "execution_count": null,
   "id": "8c823a55",
   "metadata": {
    "deletable": false,
    "editable": false,
    "nbgrader": {
     "cell_type": "code",
     "checksum": "5d89edcf63a732d37b68f2f4b651dd98",
     "grade": true,
     "grade_id": "cell-3d6211e5c8a90790",
     "locked": true,
     "points": 25,
     "schema_version": 3,
     "solution": false,
     "task": false
    }
   },
   "outputs": [],
   "source": []
  },
  {
   "cell_type": "code",
   "execution_count": null,
   "id": "3f6be5ae",
   "metadata": {},
   "outputs": [],
   "source": []
  }
 ],
 "metadata": {
  "kernelspec": {
   "display_name": "Python 3 (ipykernel)",
   "language": "python",
   "name": "python3"
  },
  "language_info": {
   "codemirror_mode": {
    "name": "ipython",
    "version": 3
   },
   "file_extension": ".py",
   "mimetype": "text/x-python",
   "name": "python",
   "nbconvert_exporter": "python",
   "pygments_lexer": "ipython3",
   "version": "3.10.6"
  }
 },
 "nbformat": 4,
 "nbformat_minor": 5
}
