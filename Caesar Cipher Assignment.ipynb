{
 "cells": [
  {
   "cell_type": "markdown",
   "id": "3f7d5974",
   "metadata": {},
   "source": [
    "# Caesar Cipher Assignment"
   ]
  },
  {
   "cell_type": "code",
   "execution_count": null,
   "id": "821c6a49",
   "metadata": {},
   "outputs": [],
   "source": [
    "# preamble code, imports, etc..."
   ]
  },
  {
   "cell_type": "markdown",
   "id": "103a5720",
   "metadata": {},
   "source": [
    "## Section \n",
    "\n",
    "In this programming assignment, you will implement a simple Caesar encryption algorithm in Python. The Caesar cipher is one of the earliest and simplest encryption techniques, where each letter in the plaintext is shifted a certain number of places down or up the alphabet."
   ]
  },
  {
   "cell_type": "markdown",
   "id": "f31c8035",
   "metadata": {},
   "source": [
    "### Question\n",
    "\n",
    "**Write a Python function `caesar_encrypt(plaintext)` that takes a plaintext string text as input and returns the encrypted ciphertext string using the Caesar cipher with a shift of 3 (to the right).**\n",
    "\n",
    "_Ensure that your encryption function handles wrapping around the alphabet correctly. For example, shifting 'z' by 1 should result in 'a'. The input plaintext can be a mixture of uppercase and lower case letters. The output should be lowercase only._\n",
    "\n",
    "_The input plaintext may contain spaces, periods (.) and commas(,). Your resulting ciphertext should ignore these three characters and output the plaintext as a sequence of letters without any spaces, periods, and commas._"
   ]
  },
  {
   "cell_type": "markdown",
   "id": "1b9f3be6",
   "metadata": {},
   "source": [
    "#### Solution"
   ]
  },
  {
   "cell_type": "code",
   "execution_count": null,
   "id": "b5d24d2b",
   "metadata": {
    "deletable": false,
    "nbgrader": {
     "cell_type": "code",
     "checksum": "ed874598f54832f7a6b09e71656ad36e",
     "grade": false,
     "grade_id": "cell-15048376ca56a9a2",
     "locked": false,
     "schema_version": 3,
     "solution": true,
     "task": false
    }
   },
   "outputs": [],
   "source": [
    "def caesar_encrypt(plaintext):\n",
    "    shift = 3\n",
    "    alphabet = 'abcdefghijklmnopqrstuvwxyz'\n",
    "    # Create a dictionary for letter shifting\n",
    "    shifted_alphabet = {alphabet[i]: alphabet[(i + shift) % 26] for i in range(len(alphabet))}\n",
    "    \n",
    "    # Prepare the ciphertext\n",
    "    ciphertext = ''\n",
    "    \n",
    "    for char in plaintext:\n",
    "        # Convert to lowercase\n",
    "        char = char.lower()\n",
    "        if char in alphabet:\n",
    "            # Append the shifted character\n",
    "            ciphertext += shifted_alphabet[char]\n",
    "        # Ignore spaces, periods, and commas\n",
    "        elif char in ' .,':\n",
    "            continue\n",
    "        else:\n",
    "            # If character is not in alphabet, add it unchanged\n",
    "            ciphertext += char\n",
    "            \n",
    "    return ciphertext"
   ]
  },
  {
   "cell_type": "markdown",
   "id": "9e50192f",
   "metadata": {},
   "source": [
    "#### Auto-Grading\n",
    "- Instructor Note: feel free to use any combination of these as you see fit and modify/remove the cells as needed"
   ]
  },
  {
   "cell_type": "markdown",
   "id": "2defec8c",
   "metadata": {},
   "source": [
    "##### Visible Test Cases\n",
    "- visible to learners in notebook\n",
    "- learners can execute cell with tests while coding"
   ]
  },
  {
   "cell_type": "code",
   "execution_count": null,
   "id": "56682ac9",
   "metadata": {
    "deletable": false,
    "editable": false,
    "nbgrader": {
     "cell_type": "code",
     "checksum": "e5dffa87411824ce9202ad178a1519a8",
     "grade": true,
     "grade_id": "cell-f41cfd7e614545e1",
     "locked": true,
     "points": 10,
     "schema_version": 3,
     "solution": false,
     "task": false
    }
   },
   "outputs": [],
   "source": [
    "### BEGIN TESTS\n",
    "# Test basic functionality\n",
    "assert caesar_encrypt(\"abc\") == \"def\", \"Error: Basic encryption not working\"\n",
    "\n",
    "# Test wrap-around (z to c)\n",
    "assert caesar_encrypt(\"xyz\") == \"abc\", \"Error: Wrap-around not handled correctly\"\n",
    "\n",
    "# Test with uppercase characters (should be converted to lowercase)\n",
    "assert caesar_encrypt(\"ABC\") == \"def\", \"Error: Uppercase characters not handled correctly\"\n",
    "### END TESTS"
   ]
  },
  {
   "cell_type": "markdown",
   "id": "9410d053",
   "metadata": {},
   "source": [
    "##### Hidden Tests\n",
    "- will not be visible for the learner\n",
    "- only run when assignment is submitted using submit button"
   ]
  },
  {
   "cell_type": "code",
   "execution_count": null,
   "id": "8c823a55",
   "metadata": {
    "deletable": false,
    "editable": false,
    "nbgrader": {
     "cell_type": "code",
     "checksum": "5bf0bcc99823e666758aac7d3d54804a",
     "grade": true,
     "grade_id": "cell-3c2955b00b147106",
     "locked": true,
     "points": 10,
     "schema_version": 3,
     "solution": false,
     "task": false
    }
   },
   "outputs": [],
   "source": []
  }
 ],
 "metadata": {
  "kernelspec": {
   "display_name": "Python 3 (ipykernel)",
   "language": "python",
   "name": "python3"
  },
  "language_info": {
   "codemirror_mode": {
    "name": "ipython",
    "version": 3
   },
   "file_extension": ".py",
   "mimetype": "text/x-python",
   "name": "python",
   "nbconvert_exporter": "python",
   "pygments_lexer": "ipython3",
   "version": "3.10.6"
  }
 },
 "nbformat": 4,
 "nbformat_minor": 5
}
